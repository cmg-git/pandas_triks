{
 "cells": [
  {
   "cell_type": "markdown",
   "id": "df251800-1525-4871-8364-b286465c6ce4",
   "metadata": {},
   "source": [
    "# Making Pandas faster by vectorization"
   ]
  },
  {
   "cell_type": "markdown",
   "id": "90bde232-50bc-4e8b-96f8-fba8bc2939a8",
   "metadata": {},
   "source": [
    "Based on [Make Your Pandas Code Lightning Fast](https://youtu.be/SAFmrTnEHLg).\n",
    "\n",
    "## Problem:\n",
    "\n",
    "Apply a logical condition across every row of a DataFrame.\n",
    "Assign the result to a new column.\n",
    "\n",
    "**Solutions:**\n",
    "\n",
    "*Level 1 **Looping:***\n",
    "\n",
    "- Define a function with the logic for rewarding for each row (i.e., person).\n",
    "- Loop over each row of the DataFrame to apply the condition to obtain the value and assign it to a cell.\n",
    "\n",
    "*Level 2: **vectorization:***\n",
    "- Apply the logical conditions to the whole DataFrame.\n",
    "- Assign the default values to the column.\n",
    "- Assign the Series of calculated values with condition.\n",
    "\n",
    "\n",
    "## Example\n",
    "\n",
    "The problem:\n",
    "\n",
    "Given a population for which each person has the characteristics:\n",
    "`age`, `time_in_bed`, `percent_sleeping`, `favorite_food`,`hate_food`\n",
    "\n",
    "create a new column with their `favorite food` or `hate foo`` as a reward.\n",
    "\n",
    "Reward logic`\n",
    "\n",
    "    IF  (they were in bed for more than 1 hour\n",
    "         AND if they slept for more than 10 %)\n",
    "    OR\n",
    "        if they are over 90 years old,\n",
    "    THEN\n",
    "        give them their favorite food.\n",
    "    ELSE\n",
    "        give them their hate food."
   ]
  },
  {
   "cell_type": "code",
   "execution_count": 1,
   "id": "95336bf2-b1d1-4e2f-bbff-9b573b7d69c3",
   "metadata": {},
   "outputs": [],
   "source": [
    "import numpy as np\n",
    "import pandas as pd\n",
    "\n",
    "size = 10_000   # n° of samples in the DataFrame"
   ]
  },
  {
   "cell_type": "markdown",
   "id": "8251551a-79d4-4d15-92f5-d8a0a116041c",
   "metadata": {},
   "source": [
    "## Generate DataFrame"
   ]
  },
  {
   "cell_type": "code",
   "execution_count": 2,
   "id": "51f71428-7a59-4c85-9fe9-495a20bc4c0b",
   "metadata": {},
   "outputs": [],
   "source": [
    "def generate_data(size=10_000):\n",
    "    df = pd.DataFrame()\n",
    "    df['age'] = np.random.randint(0, 100, size)\n",
    "    df['time_in_bed'] = np.random.randint(0, 9, size)\n",
    "    df['percent_sleeping'] = np.random.rand(size)\n",
    "    df['favorite_food'] = np.random.choice(\n",
    "        ['+pizza', '+tacos', '+ice-cream'], size)\n",
    "    df['hate_food'] = np.random.choice(\n",
    "        ['-brocolli', '-potato', '-eggs'], size)\n",
    "    return(df)"
   ]
  },
  {
   "cell_type": "markdown",
   "id": "ae7c326f-7cdd-4a5f-9aeb-9d34bf434fd3",
   "metadata": {},
   "source": [
    "## Level 1 Looping\n",
    "\n",
    "Create a function for the logic to reward each person. The function gets the data for a person and returns `favorite_food` or `hate_food` based on the `condition`:\n",
    "\n",
    "    IF  (they were in bed for more than 1 hour\n",
    "         AND if they slept for more than 10 %)\n",
    "    OR\n",
    "        if they are over 90 years old,\n",
    "    THEN\n",
    "        give them their favorite food.\n",
    "    ELSE\n",
    "        give them their hate food"
   ]
  },
  {
   "cell_type": "code",
   "execution_count": 3,
   "id": "bdb18781-1ca6-4360-8f54-e7dd7d90e41a",
   "metadata": {},
   "outputs": [],
   "source": [
    "def reward(person):\n",
    "    condition = ((person['time_in_bed'] > 1\n",
    "                  ) and (person['percent_sleeping'] > 0.1)\n",
    "                 ) or person['age'] >= 90\n",
    "    if condition:\n",
    "        return person['favorite_food']\n",
    "    else:\n",
    "        return person['hate_food']"
   ]
  },
  {
   "cell_type": "code",
   "execution_count": 4,
   "id": "0b754d42-b61f-4f48-a78b-f8a90715a814",
   "metadata": {},
   "outputs": [],
   "source": [
    "df = generate_data(size)\n",
    "df_loop = df"
   ]
  },
  {
   "cell_type": "markdown",
   "id": "04d19295-7647-46ef-a195-bd90a93318e7",
   "metadata": {},
   "source": [
    "Loop over each row of the df and apply the condition given in the function.\n",
    "For each row, assign the result to a cell of the DataFrame.\n",
    "\n",
    "Note the execution time."
   ]
  },
  {
   "cell_type": "code",
   "execution_count": 5,
   "id": "b6835491-7aef-461a-8f41-8fb96096dd13",
   "metadata": {},
   "outputs": [
    {
     "name": "stdout",
     "output_type": "stream",
     "text": [
      "2.98 s ± 183 ms per loop (mean ± std. dev. of 7 runs, 1 loop each)\n"
     ]
    }
   ],
   "source": [
    "%%timeit\n",
    "for index, person in df_loop.iterrows():\n",
    "    df_loop.loc[index, 'reward'] = reward(person)"
   ]
  },
  {
   "cell_type": "markdown",
   "id": "c00cd6db-cd51-4aa8-8746-746ae4bb81f0",
   "metadata": {},
   "source": [
    "## Level 2 Vectorization\n",
    "\n",
    "Instead of looping on each row,\n",
    "apply the logical conditions to the whole DataFrame."
   ]
  },
  {
   "cell_type": "code",
   "execution_count": 6,
   "id": "69cc2f6f-d129-4407-a671-a92602346131",
   "metadata": {},
   "outputs": [],
   "source": [
    "df_vector = df"
   ]
  },
  {
   "cell_type": "code",
   "execution_count": 7,
   "id": "fcdf1a72-6057-479c-933f-2eeee02ebccd",
   "metadata": {},
   "outputs": [
    {
     "name": "stdout",
     "output_type": "stream",
     "text": [
      "1.31 ms ± 34 µs per loop (mean ± std. dev. of 7 runs, 1000 loops each)\n"
     ]
    }
   ],
   "source": [
    "%%timeit\n",
    "condition = ((df_vector['time_in_bed'] > 1\n",
    "              ) & (df_vector['percent_sleeping'] > 0.1)\n",
    "             ) | (df_vector['age'] >= 90)\n",
    "\n",
    "df_vector['reward'] = df_vector['hate_food']\n",
    "df_vector.loc[condition, 'reward'] = df_vector['favorite_food']"
   ]
  },
  {
   "cell_type": "markdown",
   "id": "48f0d122-7fd7-4efe-b3fc-442eba8a9b3d",
   "metadata": {},
   "source": [
    "## Check if the two df are equal"
   ]
  },
  {
   "cell_type": "code",
   "execution_count": 8,
   "id": "423b15c7-db17-4598-9e83-265208130dec",
   "metadata": {},
   "outputs": [
    {
     "name": "stdout",
     "output_type": "stream",
     "text": [
      "Are the two DataFrames equal?  True\n"
     ]
    }
   ],
   "source": [
    "print(\"Are the two DataFrames equal? \", df_loop.equals(df_vector))"
   ]
  },
  {
   "cell_type": "code",
   "execution_count": null,
   "id": "58df1511-7c6a-4639-abf4-2365107d3c8e",
   "metadata": {},
   "outputs": [],
   "source": []
  }
 ],
 "metadata": {
  "kernelspec": {
   "display_name": "Python 3 (ipykernel)",
   "language": "python",
   "name": "python3"
  },
  "language_info": {
   "codemirror_mode": {
    "name": "ipython",
    "version": 3
   },
   "file_extension": ".py",
   "mimetype": "text/x-python",
   "name": "python",
   "nbconvert_exporter": "python",
   "pygments_lexer": "ipython3",
   "version": "3.9.7"
  },
  "toc-autonumbering": true
 },
 "nbformat": 4,
 "nbformat_minor": 5
}
